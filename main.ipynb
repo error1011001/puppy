{
 "cells": [
  {
   "cell_type": "code",
   "execution_count": 18,
   "metadata": {},
   "outputs": [
    {
     "name": "stdout",
     "output_type": "stream",
     "text": [
      "당신의 점수는  0\n"
     ]
    }
   ],
   "source": [
    "import pandas as pd\n",
    "import pandas as pd1\n",
    "import numpy as np\n",
    "\n",
    "a=0\n",
    "print(\"당신의 점수는 \",a)"
   ]
  },
  {
   "cell_type": "code",
   "execution_count": 19,
   "metadata": {},
   "outputs": [
    {
     "name": "stdout",
     "output_type": "stream",
     "text": [
      "단어                                            reverse()\n",
      "뜻                                        문자열을 거꾸로 뒤집는다.\n",
      "예시    my_list = [1, 2, 3, 4, 5]\\nmy_list.reverse()\\n...\n",
      "Name: 0, dtype: object\n",
      " \n",
      "단어                                               join()\n",
      "뜻                                      두 개의 문자열을 이어붙인다.\n",
      "예시    fruits = [\"apple\", \"banana\", \"orange\"]\\nresult...\n",
      "Name: 1, dtype: object\n",
      " \n",
      "단어                                              lower()\n",
      "뜻                                    문자열을 모두 소문자로 변환한다.\n",
      "예시    text = \"Hello, World!\"\\nlowercase_text = text....\n",
      "Name: 2, dtype: object\n",
      " \n",
      "단어                                              strip()\n",
      "뜻                            문자열의 양쪽 끝에서 공백을 제거하는 함수이다.\n",
      "예시    # Example: 앞쪽 공백 제거\\ntext = \"   Hello, World! ...\n",
      "Name: 3, dtype: object\n",
      " \n",
      "단어                                            replace()\n",
      "뜻                        문자열에서 특정 문자를 다른 문자로 대체하는 함수이다.\n",
      "예시    text = \"Hello, World!\"\\nnew_text = text.replac...\n",
      "Name: 4, dtype: object\n",
      " \n"
     ]
    }
   ],
   "source": [
    "df1 = pd1.read_csv('python_grammer.csv')\n",
    "\n",
    "for k in range(len(df1)):\n",
    "    print(df1.iloc[k])\n",
    "    print(\" \")"
   ]
  },
  {
   "cell_type": "code",
   "execution_count": 20,
   "metadata": {},
   "outputs": [],
   "source": [
    "df = pd.read_csv('문제.csv')"
   ]
  },
  {
   "cell_type": "code",
   "execution_count": 21,
   "metadata": {},
   "outputs": [
    {
     "data": {
      "text/html": [
       "<div>\n",
       "<style scoped>\n",
       "    .dataframe tbody tr th:only-of-type {\n",
       "        vertical-align: middle;\n",
       "    }\n",
       "\n",
       "    .dataframe tbody tr th {\n",
       "        vertical-align: top;\n",
       "    }\n",
       "\n",
       "    .dataframe thead th {\n",
       "        text-align: right;\n",
       "    }\n",
       "</style>\n",
       "<table border=\"1\" class=\"dataframe\">\n",
       "  <thead>\n",
       "    <tr style=\"text-align: right;\">\n",
       "      <th></th>\n",
       "      <th>번호</th>\n",
       "      <th>문제</th>\n",
       "      <th>보기1</th>\n",
       "      <th>보기2</th>\n",
       "      <th>보기3</th>\n",
       "      <th>보기4</th>\n",
       "      <th>정답</th>\n",
       "    </tr>\n",
       "  </thead>\n",
       "  <tbody>\n",
       "    <tr>\n",
       "      <th>0</th>\n",
       "      <td>1</td>\n",
       "      <td>다음 중 문자열을 거꾸로 뒤집는 방법은 무엇인가요?</td>\n",
       "      <td>a. str.reverse()</td>\n",
       "      <td>b. str[::-1]</td>\n",
       "      <td>c. str.revert()</td>\n",
       "      <td>d. str.flip()</td>\n",
       "      <td>b</td>\n",
       "    </tr>\n",
       "    <tr>\n",
       "      <th>1</th>\n",
       "      <td>2</td>\n",
       "      <td>다음 중 두 개의 문자열을 이어붙이는 올바른 방법은 무엇인가요?</td>\n",
       "      <td>a. str.add()</td>\n",
       "      <td>b. str.concatenate()</td>\n",
       "      <td>c. str.concat()</td>\n",
       "      <td>d. str.join()</td>\n",
       "      <td>d</td>\n",
       "    </tr>\n",
       "    <tr>\n",
       "      <th>2</th>\n",
       "      <td>3</td>\n",
       "      <td>다음 중 문자열에서 특정 문자를 다른 문자로 대체하는 함수는 무엇인가요?</td>\n",
       "      <td>a. str.replace()</td>\n",
       "      <td>b. str.substitute()</td>\n",
       "      <td>c. str.change()</td>\n",
       "      <td>d. str.modify()</td>\n",
       "      <td>a</td>\n",
       "    </tr>\n",
       "    <tr>\n",
       "      <th>3</th>\n",
       "      <td>4</td>\n",
       "      <td>다음 중 문자열을 모두 소문자로 변환하는 올바른 방법은 무엇인가요?</td>\n",
       "      <td>a. str.lowercase()</td>\n",
       "      <td>b. str.lower()</td>\n",
       "      <td>c. str.small()</td>\n",
       "      <td>d. str.casefold()</td>\n",
       "      <td>b</td>\n",
       "    </tr>\n",
       "    <tr>\n",
       "      <th>4</th>\n",
       "      <td>5</td>\n",
       "      <td>다음 중 문자열의 양쪽 끝에서 공백을 제거하는 함수는 무엇인가요?</td>\n",
       "      <td>a. str.strip()</td>\n",
       "      <td>b. str.trim()</td>\n",
       "      <td>c. str.delete()</td>\n",
       "      <td>d. str.remove()</td>\n",
       "      <td>a</td>\n",
       "    </tr>\n",
       "  </tbody>\n",
       "</table>\n",
       "</div>"
      ],
      "text/plain": [
       "   번호                                        문제                 보기1  \\\n",
       "0   1              다음 중 문자열을 거꾸로 뒤집는 방법은 무엇인가요?    a. str.reverse()   \n",
       "1   2       다음 중 두 개의 문자열을 이어붙이는 올바른 방법은 무엇인가요?        a. str.add()   \n",
       "2   3  다음 중 문자열에서 특정 문자를 다른 문자로 대체하는 함수는 무엇인가요?    a. str.replace()   \n",
       "3   4     다음 중 문자열을 모두 소문자로 변환하는 올바른 방법은 무엇인가요?  a. str.lowercase()   \n",
       "4   5      다음 중 문자열의 양쪽 끝에서 공백을 제거하는 함수는 무엇인가요?      a. str.strip()   \n",
       "\n",
       "                    보기2              보기3                보기4 정답  \n",
       "0          b. str[::-1]  c. str.revert()      d. str.flip()  b  \n",
       "1  b. str.concatenate()  c. str.concat()      d. str.join()  d  \n",
       "2   b. str.substitute()  c. str.change()    d. str.modify()  a  \n",
       "3        b. str.lower()   c. str.small()  d. str.casefold()  b  \n",
       "4         b. str.trim()  c. str.delete()    d. str.remove()  a  "
      ]
     },
     "execution_count": 21,
     "metadata": {},
     "output_type": "execute_result"
    }
   ],
   "source": [
    "df"
   ]
  },
  {
   "cell_type": "code",
   "execution_count": 22,
   "metadata": {},
   "outputs": [],
   "source": [
    "test = df.to_numpy()"
   ]
  },
  {
   "cell_type": "code",
   "execution_count": 23,
   "metadata": {},
   "outputs": [],
   "source": [
    "섞기 = df.sample(len(df))"
   ]
  },
  {
   "cell_type": "code",
   "execution_count": 24,
   "metadata": {},
   "outputs": [
    {
     "data": {
      "text/html": [
       "<div>\n",
       "<style scoped>\n",
       "    .dataframe tbody tr th:only-of-type {\n",
       "        vertical-align: middle;\n",
       "    }\n",
       "\n",
       "    .dataframe tbody tr th {\n",
       "        vertical-align: top;\n",
       "    }\n",
       "\n",
       "    .dataframe thead th {\n",
       "        text-align: right;\n",
       "    }\n",
       "</style>\n",
       "<table border=\"1\" class=\"dataframe\">\n",
       "  <thead>\n",
       "    <tr style=\"text-align: right;\">\n",
       "      <th></th>\n",
       "      <th>번호</th>\n",
       "      <th>문제</th>\n",
       "      <th>보기1</th>\n",
       "      <th>보기2</th>\n",
       "      <th>보기3</th>\n",
       "      <th>보기4</th>\n",
       "      <th>정답</th>\n",
       "    </tr>\n",
       "  </thead>\n",
       "  <tbody>\n",
       "    <tr>\n",
       "      <th>2</th>\n",
       "      <td>3</td>\n",
       "      <td>다음 중 문자열에서 특정 문자를 다른 문자로 대체하는 함수는 무엇인가요?</td>\n",
       "      <td>a. str.replace()</td>\n",
       "      <td>b. str.substitute()</td>\n",
       "      <td>c. str.change()</td>\n",
       "      <td>d. str.modify()</td>\n",
       "      <td>a</td>\n",
       "    </tr>\n",
       "    <tr>\n",
       "      <th>1</th>\n",
       "      <td>2</td>\n",
       "      <td>다음 중 두 개의 문자열을 이어붙이는 올바른 방법은 무엇인가요?</td>\n",
       "      <td>a. str.add()</td>\n",
       "      <td>b. str.concatenate()</td>\n",
       "      <td>c. str.concat()</td>\n",
       "      <td>d. str.join()</td>\n",
       "      <td>d</td>\n",
       "    </tr>\n",
       "    <tr>\n",
       "      <th>4</th>\n",
       "      <td>5</td>\n",
       "      <td>다음 중 문자열의 양쪽 끝에서 공백을 제거하는 함수는 무엇인가요?</td>\n",
       "      <td>a. str.strip()</td>\n",
       "      <td>b. str.trim()</td>\n",
       "      <td>c. str.delete()</td>\n",
       "      <td>d. str.remove()</td>\n",
       "      <td>a</td>\n",
       "    </tr>\n",
       "    <tr>\n",
       "      <th>3</th>\n",
       "      <td>4</td>\n",
       "      <td>다음 중 문자열을 모두 소문자로 변환하는 올바른 방법은 무엇인가요?</td>\n",
       "      <td>a. str.lowercase()</td>\n",
       "      <td>b. str.lower()</td>\n",
       "      <td>c. str.small()</td>\n",
       "      <td>d. str.casefold()</td>\n",
       "      <td>b</td>\n",
       "    </tr>\n",
       "    <tr>\n",
       "      <th>0</th>\n",
       "      <td>1</td>\n",
       "      <td>다음 중 문자열을 거꾸로 뒤집는 방법은 무엇인가요?</td>\n",
       "      <td>a. str.reverse()</td>\n",
       "      <td>b. str[::-1]</td>\n",
       "      <td>c. str.revert()</td>\n",
       "      <td>d. str.flip()</td>\n",
       "      <td>b</td>\n",
       "    </tr>\n",
       "  </tbody>\n",
       "</table>\n",
       "</div>"
      ],
      "text/plain": [
       "   번호                                        문제                 보기1  \\\n",
       "2   3  다음 중 문자열에서 특정 문자를 다른 문자로 대체하는 함수는 무엇인가요?    a. str.replace()   \n",
       "1   2       다음 중 두 개의 문자열을 이어붙이는 올바른 방법은 무엇인가요?        a. str.add()   \n",
       "4   5      다음 중 문자열의 양쪽 끝에서 공백을 제거하는 함수는 무엇인가요?      a. str.strip()   \n",
       "3   4     다음 중 문자열을 모두 소문자로 변환하는 올바른 방법은 무엇인가요?  a. str.lowercase()   \n",
       "0   1              다음 중 문자열을 거꾸로 뒤집는 방법은 무엇인가요?    a. str.reverse()   \n",
       "\n",
       "                    보기2              보기3                보기4 정답  \n",
       "2   b. str.substitute()  c. str.change()    d. str.modify()  a  \n",
       "1  b. str.concatenate()  c. str.concat()      d. str.join()  d  \n",
       "4         b. str.trim()  c. str.delete()    d. str.remove()  a  \n",
       "3        b. str.lower()   c. str.small()  d. str.casefold()  b  \n",
       "0          b. str[::-1]  c. str.revert()      d. str.flip()  b  "
      ]
     },
     "execution_count": 24,
     "metadata": {},
     "output_type": "execute_result"
    }
   ],
   "source": [
    "섞기"
   ]
  },
  {
   "cell_type": "code",
   "execution_count": 25,
   "metadata": {},
   "outputs": [],
   "source": [
    "문제들 = 섞기['문제'].to_numpy()\n",
    "객관식 = 섞기[['보기1','보기2','보기3','보기4']].to_numpy()\n",
    "정답 = 섞기['정답'].to_numpy()"
   ]
  },
  {
   "cell_type": "code",
   "execution_count": 26,
   "metadata": {},
   "outputs": [
    {
     "data": {
      "text/plain": [
       "array(['a', 'd', 'a', 'b', 'b'], dtype=object)"
      ]
     },
     "execution_count": 26,
     "metadata": {},
     "output_type": "execute_result"
    }
   ],
   "source": [
    "정답"
   ]
  },
  {
   "cell_type": "code",
   "execution_count": 27,
   "metadata": {},
   "outputs": [
    {
     "data": {
      "text/plain": [
       "array(['다음 중 문자열에서 특정 문자를 다른 문자로 대체하는 함수는 무엇인가요?',\n",
       "       '다음 중 두 개의 문자열을 이어붙이는 올바른 방법은 무엇인가요?',\n",
       "       '다음 중 문자열의 양쪽 끝에서 공백을 제거하는 함수는 무엇인가요?',\n",
       "       '다음 중 문자열을 모두 소문자로 변환하는 올바른 방법은 무엇인가요?',\n",
       "       '다음 중 문자열을 거꾸로 뒤집는 방법은 무엇인가요?'], dtype=object)"
      ]
     },
     "execution_count": 27,
     "metadata": {},
     "output_type": "execute_result"
    }
   ],
   "source": [
    "문제들"
   ]
  },
  {
   "cell_type": "code",
   "execution_count": 28,
   "metadata": {},
   "outputs": [
    {
     "name": "stdout",
     "output_type": "stream",
     "text": [
      "다음 중 문자열에서 특정 문자를 다른 문자로 대체하는 함수는 무엇인가요?\n",
      "a. str.replace()\n",
      "b. str.substitute()\n",
      "c. str.change()\n",
      "d. str.modify()\n",
      "틀림/ 0 점\n",
      "다음 중 두 개의 문자열을 이어붙이는 올바른 방법은 무엇인가요?\n",
      "a. str.add()\n",
      "b. str.concatenate()\n",
      "c. str.concat()\n",
      "d. str.join()\n",
      "틀림/ 0 점\n",
      "다음 중 문자열의 양쪽 끝에서 공백을 제거하는 함수는 무엇인가요?\n",
      "a. str.strip()\n",
      "b. str.trim()\n",
      "c. str.delete()\n",
      "d. str.remove()\n",
      "틀림/ 0 점\n",
      "다음 중 문자열을 모두 소문자로 변환하는 올바른 방법은 무엇인가요?\n",
      "a. str.lowercase()\n",
      "b. str.lower()\n",
      "c. str.small()\n",
      "d. str.casefold()\n",
      "틀림/ 0 점\n",
      "다음 중 문자열을 거꾸로 뒤집는 방법은 무엇인가요?\n",
      "a. str.reverse()\n",
      "b. str[::-1]\n",
      "c. str.revert()\n",
      "d. str.flip()\n",
      "틀림/ 0 점\n"
     ]
    }
   ],
   "source": [
    "for i,j in enumerate(문제들):\n",
    "    print(j)\n",
    "    for j in 객관식[i]:\n",
    "        print(j)\n",
    "    x = input()\n",
    "    if(x == 정답[i]):\n",
    "        a+=1\n",
    "        print('정답/',a,\"점\")\n",
    "    else:\n",
    "        print(\"틀림/\",a,\"점\")"
   ]
  },
  {
   "cell_type": "code",
   "execution_count": null,
   "metadata": {},
   "outputs": [],
   "source": [
    "\n"
   ]
  }
 ],
 "metadata": {
  "kernelspec": {
   "display_name": "Python 3",
   "language": "python",
   "name": "python3"
  },
  "language_info": {
   "codemirror_mode": {
    "name": "ipython",
    "version": 3
   },
   "file_extension": ".py",
   "mimetype": "text/x-python",
   "name": "python",
   "nbconvert_exporter": "python",
   "pygments_lexer": "ipython3",
   "version": "3.11.3"
  },
  "orig_nbformat": 4
 },
 "nbformat": 4,
 "nbformat_minor": 2
}
